{
 "cells": [
  {
   "cell_type": "code",
   "execution_count": 5,
   "metadata": {},
   "outputs": [],
   "source": [
    "%matplotlib inline\n",
    "import warnings\n",
    "warnings.filterwarnings(action='ignore')\n",
    "\n",
    "import pandas as pd\n",
    "import numpy as np\n",
    "import random as rnd\n",
    "#from imblearn.pipeline import Pipeline\n",
    "from collections import Counter\n",
    "\n",
    "# import functions py file first"
   ]
  },
  {
   "cell_type": "code",
   "execution_count": 6,
   "metadata": {},
   "outputs": [],
   "source": [
    "pd.set_option('display.max_columns', 200)\n",
    "pd.set_option('display.max_rows', 200)"
   ]
  },
  {
   "cell_type": "code",
   "execution_count": 7,
   "metadata": {},
   "outputs": [],
   "source": [
    "origin_df = pd.read_csv('bdb.csv', low_memory = False)"
   ]
  },
  {
   "cell_type": "code",
   "execution_count": 8,
   "metadata": {},
   "outputs": [],
   "source": [
    "working_df = origin_df.copy()"
   ]
  },
  {
   "cell_type": "code",
   "execution_count": 9,
   "metadata": {},
   "outputs": [],
   "source": [
    "# small reference df for analysis\n",
    "\n",
    "players = working_df[['NflId', 'DisplayName', 'JerseyNumber', 'PlayerBirthDate', 'PlayerCollegeName', 'Position']]"
   ]
  },
  {
   "cell_type": "code",
   "execution_count": 10,
   "metadata": {},
   "outputs": [],
   "source": [
    "# initial column drops, all others will be dropped at end\n",
    "\n",
    "working_df.drop(columns=['DisplayName', 'JerseyNumber', 'PlayerBirthDate', 'PlayerCollegeName',\n",
    "                        'Stadium', 'Location', 'WindSpeed', 'WindDirection', 'GameId', 'Season'], axis= 1, inplace= True)"
   ]
  },
  {
   "cell_type": "code",
   "execution_count": 11,
   "metadata": {},
   "outputs": [],
   "source": [
    "# fix incorrect names\n",
    "\n",
    "working_df['PossessionTeam'].replace(to_replace= {'ARZ':'ARI', 'BLT':'BAL',\n",
    "                                                  'CLV':'CLE', 'HST':'HOU'}, \n",
    "                                    inplace= True)"
   ]
  },
  {
   "cell_type": "code",
   "execution_count": 12,
   "metadata": {},
   "outputs": [],
   "source": [
    "# simmer Team, PossessionTeam, HomeTeamAbbr, and VisitorTeamAbbr to three cohesive columns:\n",
    "# offensiveTeam, defensiveTeam, and Team\n",
    "\n",
    "working_df['offensiveTeam'] = working_df['PossessionTeam']\n",
    "working_df.loc[working_df['PossessionTeam'] == working_df['HomeTeamAbbr'], 'defensiveTeam'] = working_df['VisitorTeamAbbr']\n",
    "working_df.loc[working_df['PossessionTeam'] == working_df['VisitorTeamAbbr'], 'defensiveTeam'] = working_df['HomeTeamAbbr']\n",
    "\n",
    "working_df.loc[working_df['Team'] == 'away', 'Team'] = working_df['VisitorTeamAbbr']\n",
    "working_df.loc[working_df['Team'] == 'home', 'Team'] = working_df['HomeTeamAbbr']"
   ]
  },
  {
   "cell_type": "code",
   "execution_count": null,
   "metadata": {},
   "outputs": [],
   "source": [
    "# convert gameclock (time left in quarter) to seconds\n",
    "\n",
    "working_df['GameClock'] = working_df['GameClock'].apply(GameClockSeconds)"
   ]
  },
  {
   "cell_type": "code",
   "execution_count": null,
   "metadata": {},
   "outputs": [],
   "source": [
    "# convert height to inches\n",
    "\n",
    "working_df['PlayerHeightInches'] = working_df['PlayerHeight'].apply(PlayerHeightInches)"
   ]
  },
  {
   "cell_type": "markdown",
   "metadata": {},
   "source": [
    "# FINAL CODE BLOCKS ONLY ABOVE!"
   ]
  },
  {
   "cell_type": "code",
   "execution_count": 14,
   "metadata": {},
   "outputs": [],
   "source": [
    "# simplify Turf classes\n",
    "turf_list = ['Field Turf', 'Artificial', 'FieldTurf', 'UBU Speed Series-S5-M',\n",
    "            'A-Turf Titan', 'UBU Sports Speed S5-M', 'FieldTurf360', 'Twenty-Four/Seven Turf',\n",
    "            'FieldTurf 360', 'Twenty Four/Seven Turf', 'Turf', 'Field turf', \n",
    "             'UBU-Speed Series-S5-M', 'Artifical']\n",
    "grass_list = ['Grass', 'Natural Grass', 'Natural', 'Naturall Grass', 'natural grass', 'grass',\n",
    "             'Natural grass']\n",
    "hybrid_list = ['SISGrass', 'DD GrassMaster', '']\n",
    "\n",
    "working_df.loc[working_df['Turf'].isin(turf_list), 'Turf'] = \"turf\"\n",
    "working_df.loc[working_df['Turf'].isin(grass_list), 'Turf'] = \"grass\"\n",
    "working_df.loc[working_df['Turf'].isin(hybrid_list), 'Turf'] = \"hybrid\""
   ]
  },
  {
   "cell_type": "code",
   "execution_count": 13,
   "metadata": {},
   "outputs": [],
   "source": [
    "# final column drop\n",
    "\n",
    "working_df.drop(columns= ['Team', 'PossessionTeam', 'HomeTeamAbbr', 'VisitorTeamAbbr'], \n",
    "                axis=1, inplace=True)"
   ]
  },
  {
   "cell_type": "code",
   "execution_count": null,
   "metadata": {},
   "outputs": [],
   "source": [
    "# wrangle offensive personnel in 3 steps:\n",
    "# 1. manually check suspicious groups, i.e. missing QB, having dbs, having excessive OL\n",
    "# 2. \n",
    "# 3.\n",
    "\n",
    "working_df['OffensePersonnel'].replace(to_replace={'1 RB, 2 TE, 1 WR,1 DL' : '1 QB, 6 OL, 1 RB, 2 TE, 1 WR', \n",
    "                                                   '2 QB, 1 RB, 1 TE, 2 WR' : '1 QB, 5 OL, 2 RB, 1 TE, 2 WR',\n",
    "                                                   '1 RB, 1 TE, 2 WR,1 DL' : '1 QB, 6 OL, 1 RB, 1 TE, 2 WR', \n",
    "                                                   '2 QB, 2 RB, 1 TE, 1 WR' : '1 QB, 5 OL, 3 RB, 1 TE, 1 WR', \n",
    "                                                   '1 RB, 3 TE, 0 WR,1 DL' : '1 QB, 6 OL, 1 RB, 3 TE, 0 WR',\n",
    "                                                   '2 QB, 1 RB, 2 TE, 1 WR' : '1 QB, 5 OL, 2 RB, 2 TE, 1 WR', \n",
    "                                                   '6 OL, 1 RB, 2 TE, 0 WR,1 LB' : '1 QB, 6 OL, 2 RB, 2 TE, 0 WR', \n",
    "                                                   '6 OL, 1 RB, 2 TE, 0 WR,1 DL' : '1 QB, 6 OL, 2 RB, 2 TE, 0 WR', \n",
    "                                                   '1 RB, 2 TE, 1 WR,1 LB' : '1 QB, 5 OL, 2 RB, 2 TE, 1 WR', \n",
    "                                                   '1 RB, 1 TE, 2 WR,1 DB' : '1 QB, 5 OL, 1 RB, 1 TE, 3 WR', \n",
    "                                                   '6 OL, 2 RB, 1 TE, 0 WR,1 DL' : '1 QB, 6 OL, 3 RB, 1 TE, 0 WR', \n",
    "                                                   '2 QB, 1 RB, 0 TE, 3 WR' : '1 QB, 5 OL, 2 RB, 0 TE, 3 WR', \n",
    "                                                   '2 QB, 6 OL, 1 RB, 1 TE, 1 WR' : '1 QB, 6 OL, 2 RB, 1 TE, 1 WR', \n",
    "                                                   '6 OL, 1 RB, 1 TE, 1 WR,1 DL' : '1 QB, 6 OL, 2 RB, 1 TE, 1 WR',\n",
    "                                                   '1 RB, 3 TE, 0 WR,1 LB' : '1 QB, 5 OL, 2 RB, 3 TE, 0 WR'\n",
    "                                                  }, \n",
    "                                    inplace= True)\n",
    "\n",
    "working_df['RB'] = working_df['OffensePersonnel'].apply(labelRB)\n",
    "working_df['TE'] = working_df['OffensePersonnel'].apply(labelTE)\n",
    "working_df['WR'] = working_df['OffensePersonnel'].apply(labelWR)\n",
    "working_df['QB'] = working_df['OffensePersonnel'].apply(labelQB)\n",
    "working_df['OL'] = working_df['OffensePersonnel'].apply(labelOL)"
   ]
  }
 ],
 "metadata": {
  "kernelspec": {
   "display_name": "Python 3",
   "language": "python",
   "name": "python3"
  },
  "language_info": {
   "codemirror_mode": {
    "name": "ipython",
    "version": 3
   },
   "file_extension": ".py",
   "mimetype": "text/x-python",
   "name": "python",
   "nbconvert_exporter": "python",
   "pygments_lexer": "ipython3",
   "version": "3.6.9"
  }
 },
 "nbformat": 4,
 "nbformat_minor": 4
}
