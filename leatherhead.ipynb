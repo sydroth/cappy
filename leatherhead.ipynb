{
 "cells": [
  {
   "cell_type": "code",
   "execution_count": 1,
   "metadata": {},
   "outputs": [],
   "source": [
    "# functions for our model that can be a py module"
   ]
  },
  {
   "cell_type": "code",
   "execution_count": 1,
   "metadata": {},
   "outputs": [],
   "source": [
    "def PlayerHeightInches(PlayerHeight):\n",
    "    PlayerHeight.split('-')\n",
    "    PlayerHeightInches = (int(PlayerHeight[0]) * 12) + int(PlayerHeight[2])\n",
    "    return PlayerHeightInches"
   ]
  },
  {
   "cell_type": "code",
   "execution_count": null,
   "metadata": {},
   "outputs": [],
   "source": [
    "# classifiying offensive personnel groups\n",
    "\n",
    "# try to fucking shrink this you smooth brain\n",
    "# wrap it all in one func?\n",
    "# apply direct to working df\n",
    "# dummy values\n",
    "\n",
    "# can probs add arguments of position and nickname, make all like OL\n",
    "\n",
    "def personnelParse(OffensePersonnel, \"position\", positionGroup):\n",
    "    groups = OffensePersonnel.split(',')\n",
    "    for group in groups:\n",
    "        if \"position\" in group:\n",
    "            positionGroup = [int(x) for x in group if x.isdigit()]\n",
    "            return positionGroup\n",
    "        \n",
    "rb = working_df['OffensePersonnel'].apply(personnelParse(OffensePersonnel, \"RB\", backs))\n",
    "\n",
    "def labelTE(OffensePersonnel):\n",
    "    groups = OffensePersonnel.split(',')\n",
    "    ends = [group for group in groups if \"TE\" in group][0]\n",
    "    return ends\n",
    "\n",
    "def labelWR(OffensePersonnel):\n",
    "    groups = OffensePersonnel.split(',')\n",
    "    receivers = [group for group in groups if \"WR\" in group][0]\n",
    "    return receivers\n",
    "\n",
    "def labelQB(OffensePersonnel):\n",
    "    groups = OffensePersonnel.split(',')\n",
    "    for group in groups:\n",
    "        if \"QB\" in group:\n",
    "            passers = group[0]\n",
    "            return passers\n",
    "\n",
    "def removespaceOP(OffensePersonnel):\n",
    "    removeSpace = [x.strip(' ') for x in OffensePersonnel]\n",
    "    \n",
    "# put result into column\n",
    "# dummy value columns\n",
    "# applies to OffensePersonnel"
   ]
  },
  {
   "cell_type": "code",
   "execution_count": null,
   "metadata": {},
   "outputs": [],
   "source": [
    "def offensiveLinemen():\n",
    "    # use regex to find OL numbers\n",
    "    # return linemen = 1, 2, 3, 4, 5, 6\n",
    "    \n",
    "# put result into column\n",
    "# dummy value column\n",
    "# applies to OffensePersonnel"
   ]
  },
  {
   "cell_type": "code",
   "execution_count": null,
   "metadata": {},
   "outputs": [],
   "source": [
    "def carrierAverageGain(NflIdRusher, Yards):\n",
    "    \n",
    "    \n",
    "    df['total'] = df.loc[df['A'] > 0,['A','B']].sum(axis=1)\n",
    "    "
   ]
  },
  {
   "cell_type": "code",
   "execution_count": null,
   "metadata": {},
   "outputs": [],
   "source": [
    "# Because Quarter is a feature, we can just make convert this column into seconds that are left in the quarter\n",
    "\n",
    "def GameClockSeconds(GameClock):\n",
    "    time_split = GameClock.split(':')\n",
    "    seconds = int(time_split[0])*60 + int(time_split[1]) \n",
    "    return seconds"
   ]
  },
  {
   "cell_type": "code",
   "execution_count": null,
   "metadata": {},
   "outputs": [],
   "source": [
    "def losBox():\n",
    "    # define boundaries for play box"
   ]
  },
  {
   "cell_type": "code",
   "execution_count": null,
   "metadata": {},
   "outputs": [],
   "source": [
    "# flip all plays going left on field to face right, making all plays \n",
    "def fieldOrientation\n",
    "    "
   ]
  },
  {
   "cell_type": "code",
   "execution_count": null,
   "metadata": {},
   "outputs": [],
   "source": [
    "#def ballCarrierDown(playId):\n",
    "#    ballCarrier = NflIdRusher\n",
    "#    ballCarrierStart = X\n",
    "#    ballCarrierEnd = \n",
    "#    if playDirection == Left:\n",
    "#        ballCarrierEnd = X - \n",
    "    \n",
    "\n",
    "#def carrierPastTackles(playId, rusherID):\n",
    "#    ballCarrier = NflIdRusher\n",
    "#    ballCarrierEndPoint = ballCarrier X\n",
    "#    tackles = # any linemen\n",
    "    # where playID is = playID and \n",
    "    # if ballCarrier\n",
    "    "
   ]
  }
 ],
 "metadata": {
  "kernelspec": {
   "display_name": "Python 3",
   "language": "python",
   "name": "python3"
  },
  "language_info": {
   "codemirror_mode": {
    "name": "ipython",
    "version": 3
   },
   "file_extension": ".py",
   "mimetype": "text/x-python",
   "name": "python",
   "nbconvert_exporter": "python",
   "pygments_lexer": "ipython3",
   "version": "3.6.9"
  }
 },
 "nbformat": 4,
 "nbformat_minor": 4
}
